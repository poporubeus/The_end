{
 "cells": [
  {
   "cell_type": "code",
   "execution_count": null,
   "metadata": {},
   "outputs": [],
   "source": [
    "import qiskit\n",
    "import tensorflow as tf\n",
    "from tensorflow import keras\n",
    "from qiskit import QuantumCircuit, ClassicalRegister, QuantumRegister, execute, transpile\n",
    "from qiskit import BasicAer, Aer, execute\n",
    "from qiskit.visualization import *\n",
    "from qiskit.quantum_info.operators import Operator\n",
    "import numpy as np\n",
    "import matplotlib.pyplot as plt\n",
    "from qiskit.circuit.parameter import Parameter\n",
    "import qiskit\n",
    "from qiskit.visualization import *\n",
    "from qiskit.circuit.parameter import Parameter\n",
    "from qiskit_machine_learning.neural_networks import CircuitQNN, SamplerQNN\n",
    "from qiskit_machine_learning.connectors import TorchConnector\n",
    "from qiskit.utils import QuantumInstance\n",
    "from torch.nn import CrossEntropyLoss\n",
    "from torch.optim import LBFGS\n",
    "from qiskit.utils import QuantumInstance\n",
    "from torch import Tensor\n",
    "from Qnn_class import QNN\n",
    "from dataset import data_mnist, Galaxy\n",
    "from sklearn.metrics import ConfusionMatrixDisplay, confusion_matrix, precision_recall_fscore_support\n",
    "\n",
    "seed = 42\n",
    "qi = QuantumInstance(Aer.get_backend('aer_simulator'), seed_simulator=seed,seed_transpiler=seed,shots=256)\n",
    "qi.backend.set_option(\"seed_simulator\", seed)"
   ]
  }
 ],
 "metadata": {
  "language_info": {
   "name": "python"
  }
 },
 "nbformat": 4,
 "nbformat_minor": 2
}
